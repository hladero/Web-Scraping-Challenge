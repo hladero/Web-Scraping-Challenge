{
 "cells": [
  {
   "cell_type": "code",
   "execution_count": 1,
   "metadata": {},
   "outputs": [],
   "source": [
    "#import splinter , beautifulsoup and webdriver_manager\n",
    "from splinter import Browser\n",
    "#If you do not need to click on the website to go to the next page\n",
    "from bs4 import BeautifulSoup\n",
    "from webdriver_manager.chrome import ChromeDriverManager"
   ]
  },
  {
   "cell_type": "code",
   "execution_count": 2,
   "metadata": {},
   "outputs": [
    {
     "name": "stderr",
     "output_type": "stream",
     "text": [
      "[WDM] - ====== WebDriver manager ======\n"
     ]
    },
    {
     "name": "stdout",
     "output_type": "stream",
     "text": [
      "\n",
      "\n"
     ]
    },
    {
     "name": "stderr",
     "output_type": "stream",
     "text": [
      "[WDM] - Current google-chrome version is 89.0.4389\n",
      "[WDM] - Get LATEST driver version for 89.0.4389\n",
      "[WDM] - Get LATEST driver version for 89.0.4389\n",
      "[WDM] - Trying to download new driver from https://chromedriver.storage.googleapis.com/89.0.4389.23/chromedriver_mac64.zip\n",
      "[WDM] - Driver has been saved in cache [/Users/hector/.wdm/drivers/chromedriver/mac64/89.0.4389.23]\n"
     ]
    }
   ],
   "source": [
    "#set up Splinter\n",
    "executable_path = {'executable_path': ChromeDriverManager().install()}\n",
    "browser = Browser ('chrome', **executable_path, headless = False)"
   ]
  },
  {
   "cell_type": "code",
   "execution_count": 3,
   "metadata": {},
   "outputs": [],
   "source": [
    "#website\n",
    "url= 'https://mars.nasa.gov/news/'\n",
    "#visit the website\n",
    "browser.visit(url)"
   ]
  },
  {
   "cell_type": "code",
   "execution_count": 7,
   "metadata": {},
   "outputs": [
    {
     "data": {
      "text/plain": [
       "[<div class=\"content_title\">Mars Now</div>,\n",
       " <div class=\"content_title\"><a href=\"/news/8892/another-first-perseverance-captures-the-sounds-of-driving-on-mars/\" target=\"_self\">Another First: Perseverance Captures the Sounds of Driving on Mars</a></div>,\n",
       " <div class=\"content_title\"><a href=\"/news/8891/nasa-to-host-briefing-to-preview-first-mars-helicopter-flights/\" target=\"_self\">NASA to Host Briefing to Preview First Mars Helicopter Flights</a></div>,\n",
       " <div class=\"content_title\"><a href=\"/news/8888/new-study-challenges-long-held-theory-of-fate-of-mars-water/\" target=\"_self\">New Study Challenges Long-Held Theory of Fate of Mars' Water</a></div>,\n",
       " <div class=\"content_title\"><a href=\"/news/8886/nasas-perseverance-mars-rover-mission-honors-navajo-language/\" target=\"_self\">NASA's Perseverance Mars Rover Mission Honors Navajo Language</a></div>,\n",
       " <div class=\"content_title\"><a href=\"/news/8885/perseverance-rovers-supercam-science-instrument-delivers-first-results/\" target=\"_self\">Perseverance Rover's SuperCam Science Instrument Delivers First Results</a></div>,\n",
       " <div class=\"content_title\"><a href=\"/news/8882/nasas-perseverance-drives-on-mars-terrain-for-first-time/\" target=\"_self\">NASA's Perseverance Drives on Mars' Terrain for First Time</a></div>,\n",
       " <div class=\"content_title\"><a href=\"/news/8881/media-telecon-materials-march-5-2021/\" target=\"_self\">Media Telecon Materials - March 5, 2021</a></div>,\n",
       " <div class=\"content_title\"><a href=\"/news/8880/nasa-awards-mars-ascent-propulsion-system-contract-for-sample-return/\" target=\"_self\">NASA Awards Mars Ascent Propulsion System Contract for Sample Return</a></div>,\n",
       " <div class=\"content_title\"><a href=\"/news/8878/nasa-to-provide-update-on-perseverance-firsts-since-mars-landing/\" target=\"_self\">NASA to Provide Update on Perseverance ‘Firsts' Since Mars Landing </a></div>,\n",
       " <div class=\"content_title\"><a href=\"/news/8875/testing-proves-its-worth-with-successful-mars-parachute-deployment/\" target=\"_self\">Testing Proves Its Worth With Successful Mars Parachute Deployment</a></div>,\n",
       " <div class=\"content_title\"><a href=\"/news/8873/nasas-perseverance-rover-gives-high-definition-panoramic-view-of-landing-site/\" target=\"_self\">NASA's Perseverance Rover Gives High-Definition Panoramic View of Landing Site</a></div>,\n",
       " <div class=\"content_title\"><a href=\"/news/8872/nearly-11-million-names-of-earthlings-are-on-mars-perseverance/\" target=\"_self\">Nearly 11 Million Names of Earthlings are on Mars Perseverance</a></div>,\n",
       " <div class=\"content_title\"><a href=\"/news/8870/nasas-mars-perseverance-rover-provides-front-row-seat-to-landing-first-audio-recording-of-red-planet/\" target=\"_self\">NASA's Mars Perseverance Rover Provides Front-Row Seat to Landing, First Audio Recording of Red Planet </a></div>,\n",
       " <div class=\"content_title\"><a href=\"/news/8868/nasa-to-reveal-new-video-images-from-mars-perseverance-rover/\" target=\"_self\">NASA to Reveal New Video, Images From Mars Perseverance Rover</a></div>,\n",
       " <div class=\"content_title\"><a href=\"/news/8867/nasas-mars-helicopter-reports-in/\" target=\"_self\">NASA's Mars Helicopter Reports In </a></div>,\n",
       " <div class=\"content_title\"><a href=\"/news/8866/nasas-perseverance-rover-sends-sneak-peek-of-mars-landing/\" target=\"_self\">NASA's Perseverance Rover Sends Sneak Peek of Mars Landing</a></div>,\n",
       " <div class=\"content_title\"><a href=\"/news/8865/touchdown-nasas-mars-perseverance-rover-safely-lands-on-red-planet/\" target=\"_self\">Touchdown! NASA's Mars Perseverance Rover Safely Lands on Red Planet</a></div>,\n",
       " <div class=\"content_title\"><a href=\"/news/8863/searching-for-life-in-nasas-perseverance-mars-samples/\" target=\"_self\">Searching for Life in NASA's Perseverance Mars Samples</a></div>,\n",
       " <div class=\"content_title\"><a href=\"/news/8861/the-mars-relay-network-connects-us-to-nasas-martian-explorers/\" target=\"_self\">The Mars Relay Network Connects Us to NASA's Martian Explorers</a></div>,\n",
       " <div class=\"content_title\"><a href=\"/news/8860/nasas-next-mars-rover-is-ready-for-the-most-precise-landing-yet/\" target=\"_self\">NASA's Next Mars Rover Is Ready for the Most Precise Landing Yet</a></div>,\n",
       " <div class=\"content_title\"><a href=\"/news/8859/sensors-prepare-to-collect-data-as-perseverance-enters-mars-atmosphere/\" target=\"_self\">Sensors Prepare to Collect Data as Perseverance Enters Mars' Atmosphere</a></div>,\n",
       " <div class=\"content_title\"><a href=\"/news/8858/insight-is-meeting-the-challenge-of-winter-on-dusty-mars/\" target=\"_self\">InSight Is Meeting the Challenge of Winter on Dusty Mars</a></div>,\n",
       " <div class=\"content_title\"><a href=\"/news/8857/nasa-invites-public-to-share-thrill-of-mars-perseverance-rover-landing/\" target=\"_self\">NASA Invites Public to Share Thrill of Mars Perseverance Rover Landing</a></div>,\n",
       " <div class=\"content_title\"><a href=\"/news/8852/tricky-terrain-helping-to-assure-a-safe-rover-landing/\" target=\"_self\">Tricky Terrain: Helping to Assure a Safe Rover Landing</a></div>,\n",
       " <div class=\"content_title\"><a href=\"/news/8851/where-should-future-astronauts-land-on-mars-follow-the-water/\" target=\"_self\">Where Should Future Astronauts Land on Mars? Follow the Water</a></div>,\n",
       " <div class=\"content_title\"><a href=\"/news/8848/nasas-perseverance-pays-off-back-home/\" target=\"_self\">NASA's Perseverance Pays Off Back Home</a></div>,\n",
       " <div class=\"content_title\"><a href=\"/news/8846/could-the-surface-of-phobos-reveal-secrets-of-the-martian-past/\" target=\"_self\">Could the Surface of Phobos Reveal Secrets of the Martian Past?</a></div>,\n",
       " <div class=\"content_title\"><a href=\"/news/8844/nasas-maven-continues-to-advance-mars-science-and-telecommunications-relay-efforts/\" target=\"_self\">NASA's MAVEN Continues to Advance Mars Science and Telecommunications Relay Efforts</a></div>,\n",
       " <div class=\"content_title\"><a href=\"/news/8843/nasas-perseverance-rover-22-days-from-mars-landing/\" target=\"_self\">NASA's Perseverance Rover 22 Days From Mars Landing</a></div>,\n",
       " <div class=\"content_title\"><a href=\"/news/8840/6-things-to-know-about-nasas-mars-helicopter-on-its-way-to-mars/\" target=\"_self\">6 Things to Know About NASA's Mars Helicopter on Its Way to Mars</a></div>,\n",
       " <div class=\"content_title\"><a href=\"/news/8837/nasa-to-host-virtual-briefing-on-february-perseverance-mars-rover-landing/\" target=\"_self\">NASA to Host Virtual Briefing on February Perseverance Mars Rover Landing</a></div>,\n",
       " <div class=\"content_title\"><a href=\"/news/8836/nasa-insights-mole-ends-its-journey-on-mars/\" target=\"_self\">NASA InSight's ‘Mole' Ends Its Journey on Mars</a></div>,\n",
       " <div class=\"content_title\"><a href=\"/news/8834/mars-2020-perseverance-rover-to-capture-sounds-from-the-red-planet/\" target=\"_self\">Mars 2020 Perseverance Rover to Capture Sounds From the Red Planet</a></div>,\n",
       " <div class=\"content_title\"><a href=\"/news/8832/nasas-curiosity-rover-reaches-its-3000th-day-on-mars/\" target=\"_self\">NASA's Curiosity Rover Reaches Its 3,000th Day on Mars</a></div>,\n",
       " <div class=\"content_title\"><a href=\"/news/8830/celebrate-the-perseverance-rover-landing-with-nasas-student-challenge/\" target=\"_self\">Celebrate the Perseverance Rover Landing With NASA's Student Challenge</a></div>,\n",
       " <div class=\"content_title\"><a href=\"/news/8829/nasa-extends-exploration-for-two-planetary-science-missions/\" target=\"_self\">NASA Extends Exploration for Two Planetary Science Missions</a></div>,\n",
       " <div class=\"content_title\"><a href=\"/news/8826/7-things-to-know-about-the-nasa-rover-about-to-land-on-mars/\" target=\"_self\">7 Things to Know About the NASA Rover About to Land on Mars</a></div>,\n",
       " <div class=\"content_title\"><a href=\"/news/8822/a-martian-roundtrip-nasas-perseverance-rover-sample-tubes/\" target=\"_self\">A Martian Roundtrip: NASA's Perseverance Rover Sample Tubes</a></div>,\n",
       " <div class=\"content_title\"><a href=\"/news/8819/nasa-moves-forward-with-campaign-to-return-mars-samples-to-earth/\" target=\"_self\">NASA Moves Forward With Campaign to Return Mars Samples to Earth</a></div>,\n",
       " <div class=\"content_title\"><a href=\"/news/8817/3-things-weve-learned-from-nasas-mars-insight/\" target=\"_self\">3 Things We've Learned From NASA's Mars InSight </a></div>,\n",
       " <div class=\"content_title\">\n",
       " <a href=\"/news/8870/nasas-mars-perseverance-rover-provides-front-row-seat-to-landing-first-audio-recording-of-red-planet/\">\n",
       " NASA's Mars Perseverance Rover Provides Front-Row Seat to Landing, First Audio Recording of Red Planet \n",
       " </a>\n",
       " </div>,\n",
       " <div class=\"content_title\">\n",
       " <a href=\"/news/8868/nasa-to-reveal-new-video-images-from-mars-perseverance-rover/\">\n",
       " NASA to Reveal New Video, Images From Mars Perseverance Rover\n",
       " </a>\n",
       " </div>,\n",
       " <div class=\"content_title\">\n",
       " <a href=\"/news/8860/nasas-next-mars-rover-is-ready-for-the-most-precise-landing-yet/\">\n",
       " NASA's Next Mars Rover Is Ready for the Most Precise Landing Yet\n",
       " </a>\n",
       " </div>,\n",
       " <div class=\"content_title\">\n",
       " <a href=\"/news/8882/nasas-perseverance-drives-on-mars-terrain-for-first-time/\">\n",
       " NASA's Perseverance Drives on Mars' Terrain for First Time\n",
       " </a>\n",
       " </div>,\n",
       " <div class=\"content_title\">\n",
       " <a href=\"/news/8880/nasa-awards-mars-ascent-propulsion-system-contract-for-sample-return/\">\n",
       " NASA Awards Mars Ascent Propulsion System Contract for Sample Return\n",
       " </a>\n",
       " </div>,\n",
       " <div class=\"content_title\">\n",
       " <a href=\"/news/8878/nasa-to-provide-update-on-perseverance-firsts-since-mars-landing/\">\n",
       " NASA to Provide Update on Perseverance ‘Firsts' Since Mars Landing \n",
       " </a>\n",
       " </div>,\n",
       " <div class=\"content_title\">\n",
       " <a href=\"/news/8870/nasas-mars-perseverance-rover-provides-front-row-seat-to-landing-first-audio-recording-of-red-planet/\">\n",
       " NASA's Mars Perseverance Rover Provides Front-Row Seat to Landing, First Audio Recording of Red Planet \n",
       " </a>\n",
       " </div>,\n",
       " <div class=\"content_title\">\n",
       " <a href=\"/news/8868/nasa-to-reveal-new-video-images-from-mars-perseverance-rover/\">\n",
       " NASA to Reveal New Video, Images From Mars Perseverance Rover\n",
       " </a>\n",
       " </div>,\n",
       " <div class=\"content_title\">\n",
       " <a href=\"/news/8860/nasas-next-mars-rover-is-ready-for-the-most-precise-landing-yet/\">\n",
       " NASA's Next Mars Rover Is Ready for the Most Precise Landing Yet\n",
       " </a>\n",
       " </div>,\n",
       " <div class=\"content_title\">\n",
       " <a href=\"/news/8882/nasas-perseverance-drives-on-mars-terrain-for-first-time/\">\n",
       " NASA's Perseverance Drives on Mars' Terrain for First Time\n",
       " </a>\n",
       " </div>,\n",
       " <div class=\"content_title\">\n",
       " <a href=\"/news/8880/nasa-awards-mars-ascent-propulsion-system-contract-for-sample-return/\">\n",
       " NASA Awards Mars Ascent Propulsion System Contract for Sample Return\n",
       " </a>\n",
       " </div>,\n",
       " <div class=\"content_title\">\n",
       " <a href=\"/news/8878/nasa-to-provide-update-on-perseverance-firsts-since-mars-landing/\">\n",
       " NASA to Provide Update on Perseverance ‘Firsts' Since Mars Landing \n",
       " </a>\n",
       " </div>]"
      ]
     },
     "execution_count": 7,
     "metadata": {},
     "output_type": "execute_result"
    }
   ],
   "source": [
    "# Scrape the [NASA Mars News Site](https://mars.nasa.gov/news/) and collect the latest News Title\n",
    "# and Paragraph Text. Assign the text to variables that you can reference later\n",
    "\n",
    "        #html object\n",
    "        html = browser.html\n",
    "        #parse with a beautiful soup\n",
    "        soup = BeautifulSoup(html, 'html.parser')\n",
    "        #retrieve the titles\n",
    "        titles= soup.find_all('div',class_='content_title')\n",
    "        titles\n",
    "        #iterate trough each news title\n",
    "        #for title in titles:\n",
    "            \n",
    "        #use beautiful soup's find() method to navigate and retrieve data\n",
    "            #title_= titles.find('a')\n",
    "            #target_=title_.find(target='_self').text()"
   ]
  },
  {
   "cell_type": "code",
   "execution_count": null,
   "metadata": {},
   "outputs": [],
   "source": [
    "\n",
    "target"
   ]
  },
  {
   "cell_type": "code",
   "execution_count": null,
   "metadata": {},
   "outputs": [],
   "source": []
  }
 ],
 "metadata": {
  "kernelspec": {
   "display_name": "PhytonData",
   "language": "python",
   "name": "phytondata"
  },
  "language_info": {
   "codemirror_mode": {
    "name": "ipython",
    "version": 3
   },
   "file_extension": ".py",
   "mimetype": "text/x-python",
   "name": "python",
   "nbconvert_exporter": "python",
   "pygments_lexer": "ipython3",
   "version": "3.6.12"
  }
 },
 "nbformat": 4,
 "nbformat_minor": 5
}
